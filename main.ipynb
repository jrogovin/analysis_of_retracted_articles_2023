{
 "cells": [
  {
   "cell_type": "markdown",
   "source": [
    "# IS 597 Final Project\n",
    "Jess Rogovin"
   ],
   "metadata": {
    "collapsed": false
   },
   "id": "5a91c493ddfc028d"
  },
  {
   "cell_type": "markdown",
   "source": [
    "## Hypothesis 1: Overall Retraction Rates\n",
    "Retraction rates have increased in 2023 from previous years."
   ],
   "metadata": {
    "collapsed": false
   },
   "id": "ff51e6da0eca522b"
  },
  {
   "cell_type": "code",
   "execution_count": 1,
   "outputs": [],
   "source": [
    "import pandas as pd\n",
    "from hypothesis1 import get_retracted_articles, get_date_range, count_years\n",
    "import matplotlib.pyplot as plt"
   ],
   "metadata": {
    "collapsed": false,
    "ExecuteTime": {
     "end_time": "2024-04-23T20:19:06.198136Z",
     "start_time": "2024-04-23T20:19:04.619891Z"
    }
   },
   "id": "e123c6ee072b31fd"
  },
  {
   "cell_type": "code",
   "execution_count": 2,
   "outputs": [
    {
     "data": {
      "text/plain": "Counter({2023: 7334,\n         2022: 5517,\n         2010: 5012,\n         2011: 4932,\n         2021: 3897,\n         2020: 3071,\n         2019: 2903,\n         2018: 2531,\n         2017: 1702,\n         2016: 1681,\n         2015: 1543,\n         2013: 1447,\n         2009: 1184,\n         2012: 1153,\n         2014: 1111,\n         2024: 1055,\n         2008: 450,\n         2007: 329,\n         2006: 212,\n         2005: 139,\n         2004: 127,\n         2002: 124,\n         2003: 90,\n         2000: 41,\n         2001: 37})"
     },
     "execution_count": 2,
     "metadata": {},
     "output_type": "execute_result"
    }
   ],
   "source": [
    "year_count = count_years(get_date_range(get_retracted_articles('data/retractions.csv')))\n",
    "year_count"
   ],
   "metadata": {
    "collapsed": false,
    "ExecuteTime": {
     "end_time": "2024-04-23T20:19:06.418836Z",
     "start_time": "2024-04-23T20:19:06.196962Z"
    }
   },
   "id": "fd0894b88bbd87ae"
  },
  {
   "cell_type": "code",
   "execution_count": 3,
   "outputs": [
    {
     "data": {
      "text/plain": "<BarContainer object of 25 artists>"
     },
     "execution_count": 3,
     "metadata": {},
     "output_type": "execute_result"
    },
    {
     "data": {
      "text/plain": "<Figure size 640x480 with 1 Axes>",
      "image/png": "[encoded data removed]"
     },
     "metadata": {},
     "output_type": "display_data"
    }
   ],
   "source": [
    "plt.bar(year_count.keys(), year_count.values())"
   ],
   "metadata": {
    "collapsed": false,
    "ExecuteTime": {
     "end_time": "2024-04-23T20:19:06.587895Z",
     "start_time": "2024-04-23T20:19:06.415638Z"
    }
   },
   "id": "9913b9de4c60e76e"
  },
  {
   "cell_type": "markdown",
   "source": [
    "Aside from a record number of retractions in 2010 due to scientific misconduct, the graph shows an overall upward trajectory of retractions since 2000. The last bar in the graph is 2024 and is incomplete, since this analysis is being completed in April 2024."
   ],
   "metadata": {
    "collapsed": false
   },
   "id": "36aae262255874fa"
  },
  {
   "cell_type": "markdown",
   "source": [
    "## Hypothesis 2: Reason for Retraction\n",
    "The main reason for retraction is scientific misconduct and retractions due to scientific misconduct have increased in 2023 from previous years."
   ],
   "metadata": {
    "collapsed": false
   },
   "id": "e9e067cd7a296b3"
  },
  {
   "cell_type": "code",
   "execution_count": 4,
   "outputs": [],
   "source": [
    "from hypothesis2 import get_retracted_articles, split_retraction_reasons, count_total_retraction_reasons, count_misconduct_by_year\n",
    "import numpy as np"
   ],
   "metadata": {
    "collapsed": false,
    "ExecuteTime": {
     "end_time": "2024-04-23T20:19:06.593653Z",
     "start_time": "2024-04-23T20:19:06.588219Z"
    }
   },
   "id": "bfb9ebe6a4a6a4e3"
  },
  {
   "cell_type": "code",
   "execution_count": 5,
   "outputs": [
    {
     "data": {
      "text/plain": "       RetractionDate RetractionNature                                 Reason  \\\n0      3/21/2024 0:00       Retraction            +Concerns/Issues About Data   \n0      3/21/2024 0:00       Retraction         +Concerns/Issues About Results   \n0      3/21/2024 0:00       Retraction          +Investigation by Third Party   \n0      3/21/2024 0:00       Retraction            +Original Data not Provided   \n1      3/18/2024 0:00       Retraction            +Concerns/Issues About Data   \n...               ...              ...                                    ...   \n52589  1/29/2015 0:00       Retraction                  +Duplication of Image   \n52589  1/29/2015 0:00       Retraction    +Falsification/Fabrication of Image   \n52589  1/29/2015 0:00       Retraction  +Investigation by Company/Institution   \n52590  3/15/2012 0:00       Retraction          +Investigation by Third Party   \n52590  3/15/2012 0:00       Retraction                            +Withdrawal   \n\n       RetractionYear  \n0                2024  \n0                2024  \n0                2024  \n0                2024  \n1                2024  \n...               ...  \n52589            2015  \n52589            2015  \n52589            2015  \n52590            2012  \n52590            2012  \n\n[151550 rows x 4 columns]",
      "text/html": "<div>\n<style scoped>\n    .dataframe tbody tr th:only-of-type {\n        vertical-align: middle;\n    }\n\n    .dataframe tbody tr th {\n        vertical-align: top;\n    }\n\n    .dataframe thead th {\n        text-align: right;\n    }\n</style>\n<table border=\"1\" class=\"dataframe\">\n  <thead>\n    <tr style=\"text-align: right;\">\n      <th></th>\n      <th>RetractionDate</th>\n      <th>RetractionNature</th>\n      <th>Reason</th>\n      <th>RetractionYear</th>\n    </tr>\n  </thead>\n  <tbody>\n    <tr>\n      <th>0</th>\n      <td>3/21/2024 0:00</td>\n      <td>Retraction</td>\n      <td>+Concerns/Issues About Data</td>\n      <td>2024</td>\n    </tr>\n    <tr>\n      <th>0</th>\n      <td>3/21/2024 0:00</td>\n      <td>Retraction</td>\n      <td>+Concerns/Issues About Results</td>\n      <td>2024</td>\n    </tr>\n    <tr>\n      <th>0</th>\n      <td>3/21/2024 0:00</td>\n      <td>Retraction</td>\n      <td>+Investigation by Third Party</td>\n      <td>2024</td>\n    </tr>\n    <tr>\n      <th>0</th>\n      <td>3/21/2024 0:00</td>\n      <td>Retraction</td>\n      <td>+Original Data not Provided</td>\n      <td>2024</td>\n    </tr>\n    <tr>\n      <th>1</th>\n      <td>3/18/2024 0:00</td>\n      <td>Retraction</td>\n      <td>+Concerns/Issues About Data</td>\n      <td>2024</td>\n    </tr>\n    <tr>\n      <th>...</th>\n      <td>...</td>\n      <td>...</td>\n      <td>...</td>\n      <td>...</td>\n    </tr>\n    <tr>\n      <th>52589</th>\n      <td>1/29/2015 0:00</td>\n      <td>Retraction</td>\n      <td>+Duplication of Image</td>\n      <td>2015</td>\n    </tr>\n    <tr>\n      <th>52589</th>\n      <td>1/29/2015 0:00</td>\n      <td>Retraction</td>\n      <td>+Falsification/Fabrication of Image</td>\n      <td>2015</td>\n    </tr>\n    <tr>\n      <th>52589</th>\n      <td>1/29/2015 0:00</td>\n      <td>Retraction</td>\n      <td>+Investigation by Company/Institution</td>\n      <td>2015</td>\n    </tr>\n    <tr>\n      <th>52590</th>\n      <td>3/15/2012 0:00</td>\n      <td>Retraction</td>\n      <td>+Investigation by Third Party</td>\n      <td>2012</td>\n    </tr>\n    <tr>\n      <th>52590</th>\n      <td>3/15/2012 0:00</td>\n      <td>Retraction</td>\n      <td>+Withdrawal</td>\n      <td>2012</td>\n    </tr>\n  </tbody>\n</table>\n<p>151550 rows × 4 columns</p>\n</div>"
     },
     "execution_count": 5,
     "metadata": {},
     "output_type": "execute_result"
    }
   ],
   "source": [
    "reasons = split_retraction_reasons(get_date_range(get_retracted_articles('data/retractions.csv')))\n",
    "reasons = pd.DataFrame(reasons)\n",
    "reasons['Reason'].replace('', np.nan, inplace=True)\n",
    "reasons.dropna(subset=['Reason'], inplace=True)\n",
    "reasons"
   ],
   "metadata": {
    "collapsed": false,
    "ExecuteTime": {
     "end_time": "2024-04-23T20:19:06.876088Z",
     "start_time": "2024-04-23T20:19:06.597176Z"
    }
   },
   "id": "a6292819dfc8e1bc"
  },
  {
   "cell_type": "code",
   "execution_count": 6,
   "outputs": [
    {
     "name": "stdout",
     "output_type": "stream",
     "text": [
      "107\n"
     ]
    },
    {
     "data": {
      "text/plain": "Counter({'+Investigation by Journal/Publisher': 13657,\n         '+Notice - Limited or No Information': 11025,\n         '+Unreliable Results': 9046,\n         '+Concerns/Issues About Data': 8243,\n         '+Investigation by Third Party': 7540,\n         '+Concerns/Issues about Referencing/Attributions': 6293,\n         '+Date of Retraction/Other Unknown': 6111,\n         '+Concerns/Issues with Peer Review': 5277,\n         '+Breach of Policy by Author': 4725,\n         '+Fake Peer Review': 4704,\n         '+Paper Mill': 4064,\n         '+Concerns/Issues About Results': 3984,\n         '+Duplication of Image': 3742,\n         '+Withdrawal': 3702,\n         '+Randomly Generated Content': 3510,\n         '+Duplication of Article': 3268,\n         '+Euphemisms for Plagiarism': 2894,\n         '+Investigation by Company/Institution': 2652,\n         '+Plagiarism of Article': 2441,\n         '+Plagiarism of Text': 2143,\n         '+Misconduct by Author': 1710,\n         '+Rogue Editor': 1668,\n         '+Concerns/Issues About Image': 1655,\n         '+Error in Data': 1640,\n         '+Original Data not Provided': 1639,\n         '+Upgrade/Update of Prior Notice': 1613,\n         '+Falsification/Fabrication of Data': 1544,\n         '+Author Unresponsive': 1515,\n         '+Lack of IRB/IACUC Approval': 1476,\n         '+Unreliable Data': 1457,\n         '+Concerns/Issues About Authorship': 1392,\n         '+Misconduct - Official Investigation/Finding': 1387,\n         '+Error in Results and/or Conclusions': 1267,\n         '+Error in Analyses': 1182,\n         '+Manipulation of Images': 1119,\n         '+Error in Methods': 1035,\n         '+Euphemisms for Duplication': 946,\n         '+Objections by Author(s)': 909,\n         '+Retract and Replace': 872,\n         'Notice - No/Limited Information': 828,\n         '+False/Forged Authorship': 805,\n         '+Results Not Reproducible': 763,\n         '+Error in Image': 733,\n         '+Objections by Third Party': 728,\n         '+Duplicate Publication through Error by Journal/Publisher': 720,\n         '+Error by Journal/Publisher': 707,\n         '+Error in Text': 640,\n         '+Ethical Violations by Author': 637,\n         '+Informed/Patient Consent - None/Withdrawn': 632,\n         '+Duplication of Data': 625,\n         '+Copyright Claims': 611,\n         '+Lack of Approval from Author': 528,\n         '+Withdrawn to Publish in Different Journal': 493,\n         '+Falsification/Fabrication of Image': 485,\n         '+Concerns/Issues about Third Party Involvement': 474,\n         '+Concerns/Issues about Human Subject Welfare': 455,\n         '+Duplication of Text': 449,\n         '+Plagiarism of Image': 423,\n         '+Conflict of Interest': 390,\n         '+Withdrawn (out of date)': 361,\n         '+Lack of Approval from Third Party': 340,\n         '+Taken from Dissertation/Thesis': 316,\n         '+Plagiarism of Data': 310,\n         '+Notice - Lack of': 304,\n         '+Lack of Approval from Company/Institution': 255,\n         '+Investigation by ORI': 253,\n         '+Unreliable Image': 193,\n         '+Error in Materials (General)': 173,\n         '+False Affiliation': 135,\n         '+Doing the Right Thing': 135,\n         '+Notice - Unable to Access via current resources': 134,\n         '+Cites Retracted Work': 129,\n         '+Falsification/Fabrication of Results': 105,\n         '+Legal Reasons/Legal Threats': 97,\n         '+Contamination of Cell Lines/Tissues': 96,\n         '+Miscommunication by Author': 92,\n         '+Bias Issues or Lack of Balance': 86,\n         '+Publishing Ban': 81,\n         '+Error in Cell Lines/Tissues': 80,\n         '+Complaints about Author': 74,\n         '+Criminal Proceedings': 72,\n         '+Contamination of Materials (General)': 52,\n         '+Temporary Removal': 51,\n         '+Misconduct by Third Party': 43,\n         '+Manipulation of Results': 39,\n         '+Error by Third Party': 38,\n         '+Ethical Violations by Third Party': 29,\n         '+Civil Proceedings': 27,\n         '+Salami Slicing': 26,\n         '+Objections by Company/Institution': 26,\n         '+Transfer of Copyright/Ownership': 24,\n         '+Updated to Retraction': 23,\n         '+Taken via Peer Review': 20,\n         '+Not Presented at Conference': 20,\n         '+Euphemisms for Misconduct': 20,\n         '+Miscommunication by Journal/Publisher': 18,\n         '+Hoax Paper': 15,\n         '+Contamination of Reagents': 14,\n         '+Concerns/Issues about Animal Welfare': 12,\n         '+Miscommunication by Third Party': 12,\n         '+Nonpayment of Fees/Refusal to Pay': 10,\n         '+Miscommunication by Company/Institution': 10,\n         '+Complaints about Third Party': 7,\n         '+No Further Action': 7,\n         '+Misconduct by Company/Institution': 5,\n         '+Updated to Correction': 4,\n         '+Complaints about Company/Institution': 4})"
     },
     "execution_count": 6,
     "metadata": {},
     "output_type": "execute_result"
    }
   ],
   "source": [
    "reason_count = count_total_retraction_reasons(reasons)\n",
    "print(len(reason_count))\n",
    "reason_count"
   ],
   "metadata": {
    "collapsed": false,
    "ExecuteTime": {
     "end_time": "2024-04-23T20:19:06.904393Z",
     "start_time": "2024-04-23T20:19:06.893011Z"
    }
   },
   "id": "9897d47a96e6e663"
  },
  {
   "cell_type": "markdown",
   "source": [
    "Plotting this counter on a bar graph is incomprehensible because there are so many x ticks. However, we can see that scientific misconduct is not explicitly mentioned until the 21st instance in the counter. There are many reasons that also indicate misconduct such as plagiarism or \"euphemisms for plagiarism\". "
   ],
   "metadata": {
    "collapsed": false
   },
   "id": "e1f7e7d1b041374d"
  },
  {
   "cell_type": "code",
   "execution_count": 7,
   "outputs": [
    {
     "data": {
      "text/plain": "Counter({2013: 176,\n         2022: 156,\n         2015: 125,\n         2018: 122,\n         2016: 115,\n         2012: 112,\n         2011: 109,\n         2021: 106,\n         2014: 105,\n         2020: 99,\n         2019: 75,\n         2017: 59,\n         2023: 53,\n         2010: 51,\n         2009: 47,\n         2008: 40,\n         2007: 35,\n         2006: 31,\n         2004: 23,\n         2003: 20,\n         2005: 19,\n         2002: 15,\n         2001: 7,\n         2024: 5,\n         2000: 5})"
     },
     "execution_count": 7,
     "metadata": {},
     "output_type": "execute_result"
    }
   ],
   "source": [
    "misconduct_counter = count_misconduct_by_year(split_retraction_reasons(get_date_range(get_retracted_articles('data/retractions.csv'))))\n",
    "misconduct_counter"
   ],
   "metadata": {
    "collapsed": false,
    "ExecuteTime": {
     "end_time": "2024-04-23T20:19:07.343767Z",
     "start_time": "2024-04-23T20:19:06.899467Z"
    }
   },
   "id": "b410b52ebb965fe3"
  },
  {
   "cell_type": "code",
   "execution_count": 8,
   "outputs": [
    {
     "data": {
      "text/plain": "<BarContainer object of 25 artists>"
     },
     "execution_count": 8,
     "metadata": {},
     "output_type": "execute_result"
    },
    {
     "data": {
      "text/plain": "<Figure size 640x480 with 1 Axes>",
      "image/png": "[encoded data removed]"
     },
     "metadata": {},
     "output_type": "display_data"
    }
   ],
   "source": [
    "plt.bar(misconduct_counter.keys(), misconduct_counter.values())"
   ],
   "metadata": {
    "collapsed": false,
    "ExecuteTime": {
     "end_time": "2024-04-23T20:19:07.429790Z",
     "start_time": "2024-04-23T20:19:07.341028Z"
    }
   },
   "id": "3ca9eeca7daef0da"
  },
  {
   "cell_type": "markdown",
   "source": [
    "Retraction due to misconduct by author has generally increased over time but was actually lower in 2023. A big factor here is probably due to there being many retraction reasons that encompass misconduct but do not explicitly say misconduct. "
   ],
   "metadata": {
    "collapsed": false
   },
   "id": "f381216781b73f65"
  },
  {
   "cell_type": "markdown",
   "source": [
    "## Hypothesis 3: Retraction Notice\n",
    "Previous studies (https://dl.acm.org/doi/10.1007/s11192-021-04125-4) have shown that the larger the group of authors, the lower the rate of retraction. I will study team size vs. retraction rate. My hypothesis is that the larger the team size, the lower the retraction rate."
   ],
   "metadata": {
    "collapsed": false
   },
   "id": "c781b1e00fedfc27"
  },
  {
   "cell_type": "code",
   "execution_count": 9,
   "outputs": [],
   "source": [
    "from hypothesis3 import get_retracted_articles, get_author_counts, get_author_counts_total"
   ],
   "metadata": {
    "collapsed": false,
    "ExecuteTime": {
     "end_time": "2024-04-23T20:19:07.434371Z",
     "start_time": "2024-04-23T20:19:07.431608Z"
    }
   },
   "id": "9d43a6471d10d3c4"
  },
  {
   "cell_type": "code",
   "execution_count": 10,
   "outputs": [
    {
     "data": {
      "text/plain": "                                                  Author   RetractionDate  \\\n0      Feng Han;Shun Cao;Hongwei Ding;Ziwei Chen;Qian...   3/21/2024 0:00   \n1                 Zhuochao Lv;Wenxiao Zhang;Hongyan Zhao   3/18/2024 0:00   \n2                         Jingping Gu;Feng Yuan;Yi Xiang   3/18/2024 0:00   \n3      Lijun Yu;Dongsong Bai;Wenli Tang;Fulong Bi;Qin...   3/18/2024 0:00   \n4      Sebastian Gaus;Hanluo Li;Simin Li;Qian Wang;Ti...   7/12/2023 0:00   \n...                                                  ...              ...   \n52586  Anna A Ahimastos;Anuradha Aggarwal;Kellie M D'...  12/22/2015 0:00   \n52587  Christian G Ramos;André M Grilo;Paulo J P da C...   11/1/2014 0:00   \n52588  Christian G Ramos;Sílvia A Sousa;André M Grilo...   11/1/2014 0:00   \n52589     Chang Han;Kyu Lim;Lihong Xu;Guiying Li;Tong Wu   1/29/2015 0:00   \n52590                            Wanghui Ding;Yuehua Liu   3/15/2012 0:00   \n\n      RetractionNature                                             Reason  \\\n0           Retraction  +Concerns/Issues About Data;+Concerns/Issues A...   \n1           Retraction                       +Concerns/Issues About Data;   \n2           Retraction  +Concerns/Issues About Data;+Concerns/Issues A...   \n3           Retraction                       +Concerns/Issues About Data;   \n4           Retraction  +Concerns/Issues About Data;+Concerns/Issues A...   \n...                ...                                                ...   \n52586       Retraction  +Falsification/Fabrication of Data;+Investigat...   \n52587       Retraction     +Duplication of Image;+Manipulation of Images;   \n52588       Retraction             +Duplication of Image;+Error in Image;   \n52589       Retraction  +Duplication of Image;+Falsification/Fabricati...   \n52590       Retraction         +Investigation by Third Party;+Withdrawal;   \n\n       RetractionYear  AuthorCounts  \n0                2024             6  \n1                2024             3  \n2                2024             3  \n3                2024             5  \n4                2023            14  \n...               ...           ...  \n52586            2015             8  \n52587            2014             5  \n52588            2014             5  \n52589            2015             5  \n52590            2012             2  \n\n[47622 rows x 6 columns]",
      "text/html": "<div>\n<style scoped>\n    .dataframe tbody tr th:only-of-type {\n        vertical-align: middle;\n    }\n\n    .dataframe tbody tr th {\n        vertical-align: top;\n    }\n\n    .dataframe thead th {\n        text-align: right;\n    }\n</style>\n<table border=\"1\" class=\"dataframe\">\n  <thead>\n    <tr style=\"text-align: right;\">\n      <th></th>\n      <th>Author</th>\n      <th>RetractionDate</th>\n      <th>RetractionNature</th>\n      <th>Reason</th>\n      <th>RetractionYear</th>\n      <th>AuthorCounts</th>\n    </tr>\n  </thead>\n  <tbody>\n    <tr>\n      <th>0</th>\n      <td>Feng Han;Shun Cao;Hongwei Ding;Ziwei Chen;Qian...</td>\n      <td>3/21/2024 0:00</td>\n      <td>Retraction</td>\n      <td>+Concerns/Issues About Data;+Concerns/Issues A...</td>\n      <td>2024</td>\n      <td>6</td>\n    </tr>\n    <tr>\n      <th>1</th>\n      <td>Zhuochao Lv;Wenxiao Zhang;Hongyan Zhao</td>\n      <td>3/18/2024 0:00</td>\n      <td>Retraction</td>\n      <td>+Concerns/Issues About Data;</td>\n      <td>2024</td>\n      <td>3</td>\n    </tr>\n    <tr>\n      <th>2</th>\n      <td>Jingping Gu;Feng Yuan;Yi Xiang</td>\n      <td>3/18/2024 0:00</td>\n      <td>Retraction</td>\n      <td>+Concerns/Issues About Data;+Concerns/Issues A...</td>\n      <td>2024</td>\n      <td>3</td>\n    </tr>\n    <tr>\n      <th>3</th>\n      <td>Lijun Yu;Dongsong Bai;Wenli Tang;Fulong Bi;Qin...</td>\n      <td>3/18/2024 0:00</td>\n      <td>Retraction</td>\n      <td>+Concerns/Issues About Data;</td>\n      <td>2024</td>\n      <td>5</td>\n    </tr>\n    <tr>\n      <th>4</th>\n      <td>Sebastian Gaus;Hanluo Li;Simin Li;Qian Wang;Ti...</td>\n      <td>7/12/2023 0:00</td>\n      <td>Retraction</td>\n      <td>+Concerns/Issues About Data;+Concerns/Issues A...</td>\n      <td>2023</td>\n      <td>14</td>\n    </tr>\n    <tr>\n      <th>...</th>\n      <td>...</td>\n      <td>...</td>\n      <td>...</td>\n      <td>...</td>\n      <td>...</td>\n      <td>...</td>\n    </tr>\n    <tr>\n      <th>52586</th>\n      <td>Anna A Ahimastos;Anuradha Aggarwal;Kellie M D'...</td>\n      <td>12/22/2015 0:00</td>\n      <td>Retraction</td>\n      <td>+Falsification/Fabrication of Data;+Investigat...</td>\n      <td>2015</td>\n      <td>8</td>\n    </tr>\n    <tr>\n      <th>52587</th>\n      <td>Christian G Ramos;André M Grilo;Paulo J P da C...</td>\n      <td>11/1/2014 0:00</td>\n      <td>Retraction</td>\n      <td>+Duplication of Image;+Manipulation of Images;</td>\n      <td>2014</td>\n      <td>5</td>\n    </tr>\n    <tr>\n      <th>52588</th>\n      <td>Christian G Ramos;Sílvia A Sousa;André M Grilo...</td>\n      <td>11/1/2014 0:00</td>\n      <td>Retraction</td>\n      <td>+Duplication of Image;+Error in Image;</td>\n      <td>2014</td>\n      <td>5</td>\n    </tr>\n    <tr>\n      <th>52589</th>\n      <td>Chang Han;Kyu Lim;Lihong Xu;Guiying Li;Tong Wu</td>\n      <td>1/29/2015 0:00</td>\n      <td>Retraction</td>\n      <td>+Duplication of Image;+Falsification/Fabricati...</td>\n      <td>2015</td>\n      <td>5</td>\n    </tr>\n    <tr>\n      <th>52590</th>\n      <td>Wanghui Ding;Yuehua Liu</td>\n      <td>3/15/2012 0:00</td>\n      <td>Retraction</td>\n      <td>+Investigation by Third Party;+Withdrawal;</td>\n      <td>2012</td>\n      <td>2</td>\n    </tr>\n  </tbody>\n</table>\n<p>47622 rows × 6 columns</p>\n</div>"
     },
     "execution_count": 10,
     "metadata": {},
     "output_type": "execute_result"
    }
   ],
   "source": [
    "get_author_counts(get_date_range(get_retracted_articles('data/retractions.csv')))"
   ],
   "metadata": {
    "collapsed": false,
    "ExecuteTime": {
     "end_time": "2024-04-23T20:19:07.798954Z",
     "start_time": "2024-04-23T20:19:07.435694Z"
    }
   },
   "id": "1ccb9e8f9997a93a"
  },
  {
   "cell_type": "code",
   "execution_count": 11,
   "outputs": [
    {
     "data": {
      "text/plain": "Counter({2: 9936,\n         3: 9008,\n         1: 7191,\n         4: 6289,\n         5: 4781,\n         6: 3387,\n         7: 2263,\n         8: 1492,\n         9: 1017,\n         10: 692,\n         11: 445,\n         12: 286,\n         13: 187,\n         14: 163,\n         15: 154,\n         16: 90,\n         18: 48,\n         17: 46,\n         19: 37,\n         20: 29,\n         21: 19,\n         22: 18,\n         23: 7,\n         26: 5,\n         25: 5,\n         27: 4,\n         24: 4,\n         28: 3,\n         32: 2,\n         40: 2,\n         33: 2,\n         39: 1,\n         46: 1,\n         87: 1,\n         88: 1,\n         41: 1,\n         38: 1,\n         81: 1,\n         30: 1,\n         37: 1,\n         36: 1})"
     },
     "execution_count": 11,
     "metadata": {},
     "output_type": "execute_result"
    }
   ],
   "source": [
    "author_counts = get_author_counts_total(get_author_counts(get_date_range(get_retracted_articles('data/retractions.csv'))))\n",
    "author_counts"
   ],
   "metadata": {
    "collapsed": false,
    "ExecuteTime": {
     "end_time": "2024-04-23T20:19:08.040191Z",
     "start_time": "2024-04-23T20:19:07.780576Z"
    }
   },
   "id": "4370167433b3194a"
  },
  {
   "cell_type": "code",
   "execution_count": 12,
   "outputs": [
    {
     "data": {
      "text/plain": "<BarContainer object of 41 artists>"
     },
     "execution_count": 12,
     "metadata": {},
     "output_type": "execute_result"
    },
    {
     "data": {
      "text/plain": "<Figure size 640x480 with 1 Axes>",
      "image/png": "[encoded data removed]"
     },
     "metadata": {},
     "output_type": "display_data"
    }
   ],
   "source": [
    "plt.bar(author_counts.keys(), author_counts.values())"
   ],
   "metadata": {
    "collapsed": false,
    "ExecuteTime": {
     "end_time": "2024-04-23T20:19:08.137518Z",
     "start_time": "2024-04-23T20:19:08.046432Z"
    }
   },
   "id": "8d6ca41a5bc3363c"
  },
  {
   "cell_type": "markdown",
   "source": [
    "Retractions decrease overall the higher the author group size gets, with the exception of one author to two authors."
   ],
   "metadata": {
    "collapsed": false
   },
   "id": "a39bb33cc4435deb"
  },
  {
   "cell_type": "markdown",
   "source": [
    "## Hypothesis 4: Time from publication to retraction\n",
    "There is about a 2-year lag from publication to retraction."
   ],
   "metadata": {
    "collapsed": false
   },
   "id": "251cc65c4e7af4b1"
  },
  {
   "cell_type": "code",
   "execution_count": null,
   "outputs": [],
   "source": [],
   "metadata": {
    "collapsed": false
   },
   "id": "b1e9541a02de5040"
  }
 ],
 "metadata": {
  "kernelspec": {
   "display_name": "Python 3",
   "language": "python",
   "name": "python3"
  },
  "language_info": {
   "codemirror_mode": {
    "name": "ipython",
    "version": 2
   },
   "file_extension": ".py",
   "mimetype": "text/x-python",
   "name": "python",
   "nbconvert_exporter": "python",
   "pygments_lexer": "ipython2",
   "version": "2.7.6"
  }
 },
 "nbformat": 4,
 "nbformat_minor": 5
}
