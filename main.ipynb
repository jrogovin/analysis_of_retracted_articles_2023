{
 "cells": [
  {
   "cell_type": "markdown",
   "source": [
    "# IS 597 Final Project\n",
    "Jess Rogovin"
   ],
   "metadata": {
    "collapsed": false
   },
   "id": "5a91c493ddfc028d"
  },
  {
   "cell_type": "markdown",
   "source": [
    "## Hypothesis 1: Overall Retraction Rates"
   ],
   "metadata": {
    "collapsed": false
   },
   "id": "ff51e6da0eca522b"
  },
  {
   "cell_type": "code",
   "execution_count": 2,
   "outputs": [],
   "source": [
    "from hypothesis1 import get_retracted_articles, get_date_range, count_years\n",
    "import matplotlib.pyplot as plt"
   ],
   "metadata": {
    "collapsed": false,
    "ExecuteTime": {
     "end_time": "2024-04-11T15:18:46.738309Z",
     "start_time": "2024-04-11T15:18:45.232921Z"
    }
   },
   "id": "e123c6ee072b31fd"
  },
  {
   "cell_type": "code",
   "execution_count": 3,
   "outputs": [
    {
     "data": {
      "text/plain": "Counter({2023: 7334,\n         2022: 5517,\n         2010: 5012,\n         2011: 4932,\n         2021: 3897,\n         2020: 3071,\n         2019: 2903,\n         2018: 2531,\n         2017: 1702,\n         2016: 1681,\n         2015: 1543,\n         2013: 1447,\n         2009: 1184,\n         2012: 1153,\n         2014: 1111,\n         2024: 1055,\n         2008: 450,\n         2007: 329,\n         2006: 212,\n         2005: 139,\n         2004: 127,\n         2002: 124,\n         2003: 90,\n         2001: 37})"
     },
     "execution_count": 3,
     "metadata": {},
     "output_type": "execute_result"
    }
   ],
   "source": [
    "year_count = count_years(get_date_range(get_retracted_articles('data/retractions.csv')))\n",
    "year_count"
   ],
   "metadata": {
    "collapsed": false,
    "ExecuteTime": {
     "end_time": "2024-04-11T15:18:46.938026Z",
     "start_time": "2024-04-11T15:18:46.739497Z"
    }
   },
   "id": "fd0894b88bbd87ae"
  },
  {
   "cell_type": "code",
   "execution_count": 4,
   "outputs": [
    {
     "data": {
      "text/plain": "<BarContainer object of 24 artists>"
     },
     "execution_count": 4,
     "metadata": {},
     "output_type": "execute_result"
    },
    {
     "data": {
      "text/plain": "<Figure size 640x480 with 1 Axes>",
      "image/png": "[encoded data removed]"
     },
     "metadata": {},
     "output_type": "display_data"
    }
   ],
   "source": [
    "plt.bar(year_count.keys(), year_count.values())"
   ],
   "metadata": {
    "collapsed": false,
    "ExecuteTime": {
     "end_time": "2024-04-11T15:18:47.088619Z",
     "start_time": "2024-04-11T15:18:46.936460Z"
    }
   },
   "id": "9913b9de4c60e76e"
  },
  {
   "cell_type": "markdown",
   "source": [
    "Aside from a record number of retractions in 2010 due to scientific misconduct, the graph shows an overall upward trajectory of retractions since 2000. The last bar in the graph is 2024 and is incomplete, since this analysis is being completed in April 2024."
   ],
   "metadata": {
    "collapsed": false
   },
   "id": "36aae262255874fa"
  },
  {
   "cell_type": "markdown",
   "source": [
    "## Hypothesis 2: Reason for Retraction"
   ],
   "metadata": {
    "collapsed": false
   },
   "id": "e9e067cd7a296b3"
  },
  {
   "cell_type": "code",
   "execution_count": 4,
   "outputs": [],
   "source": [],
   "metadata": {
    "collapsed": false,
    "ExecuteTime": {
     "end_time": "2024-04-11T15:18:47.091005Z",
     "start_time": "2024-04-11T15:18:47.087039Z"
    }
   },
   "id": "bfb9ebe6a4a6a4e3"
  }
 ],
 "metadata": {
  "kernelspec": {
   "display_name": "Python 3",
   "language": "python",
   "name": "python3"
  },
  "language_info": {
   "codemirror_mode": {
    "name": "ipython",
    "version": 2
   },
   "file_extension": ".py",
   "mimetype": "text/x-python",
   "name": "python",
   "nbconvert_exporter": "python",
   "pygments_lexer": "ipython2",
   "version": "2.7.6"
  }
 },
 "nbformat": 4,
 "nbformat_minor": 5
}
