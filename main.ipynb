{
 "cells": [
  {
   "cell_type": "markdown",
   "source": [
    "# IS 597 Final Project\n",
    "Jess Rogovin"
   ],
   "metadata": {
    "collapsed": false
   },
   "id": "5a91c493ddfc028d"
  },
  {
   "cell_type": "markdown",
   "source": [
    "## Hypothesis 1"
   ],
   "metadata": {
    "collapsed": false
   },
   "id": "ff51e6da0eca522b"
  },
  {
   "cell_type": "code",
   "execution_count": 36,
   "outputs": [
    {
     "ename": "ImportError",
     "evalue": "cannot import name 'get_date_range' from 'hypothesis1' (/Users/jessicarogovin/PycharmProjects/analysis_of_retracted_articles_2023/hypothesis1.py)",
     "output_type": "error",
     "traceback": [
      "\u001B[0;31m---------------------------------------------------------------------------\u001B[0m",
      "\u001B[0;31mImportError\u001B[0m                               Traceback (most recent call last)",
      "Cell \u001B[0;32mIn[36], line 1\u001B[0m\n\u001B[0;32m----> 1\u001B[0m \u001B[38;5;28;01mfrom\u001B[39;00m \u001B[38;5;21;01mhypothesis1\u001B[39;00m \u001B[38;5;28;01mimport\u001B[39;00m get_retracted_articles, get_date_range, count_years\n\u001B[1;32m      2\u001B[0m \u001B[38;5;28;01mimport\u001B[39;00m \u001B[38;5;21;01mmatplotlib\u001B[39;00m\u001B[38;5;21;01m.\u001B[39;00m\u001B[38;5;21;01mpyplot\u001B[39;00m \u001B[38;5;28;01mas\u001B[39;00m \u001B[38;5;21;01mplt\u001B[39;00m\n",
      "\u001B[0;31mImportError\u001B[0m: cannot import name 'get_date_range' from 'hypothesis1' (/Users/jessicarogovin/PycharmProjects/analysis_of_retracted_articles_2023/hypothesis1.py)"
     ]
    }
   ],
   "source": [
    "from hypothesis1 import get_retracted_articles, get_date_range, count_years\n",
    "import matplotlib.pyplot as plt"
   ],
   "metadata": {
    "collapsed": false,
    "ExecuteTime": {
     "end_time": "2024-04-10T21:51:13.081639Z",
     "start_time": "2024-04-10T21:51:13.071071Z"
    }
   },
   "id": "e123c6ee072b31fd"
  },
  {
   "cell_type": "code",
   "execution_count": 35,
   "outputs": [
    {
     "ename": "NameError",
     "evalue": "name 'get_date_range' is not defined",
     "output_type": "error",
     "traceback": [
      "\u001B[0;31m---------------------------------------------------------------------------\u001B[0m",
      "\u001B[0;31mNameError\u001B[0m                                 Traceback (most recent call last)",
      "Cell \u001B[0;32mIn[35], line 1\u001B[0m\n\u001B[0;32m----> 1\u001B[0m year_count \u001B[38;5;241m=\u001B[39m count_years(\u001B[43mget_date_range\u001B[49m(get_retracted_articles(\u001B[38;5;124m'\u001B[39m\u001B[38;5;124mdata/retractions.csv\u001B[39m\u001B[38;5;124m'\u001B[39m)))\n\u001B[1;32m      2\u001B[0m \u001B[38;5;28mprint\u001B[39m(year_count)\n",
      "\u001B[0;31mNameError\u001B[0m: name 'get_date_range' is not defined"
     ]
    }
   ],
   "source": [
    "year_count = count_years(get_date_range(get_retracted_articles('data/retractions.csv')))\n",
    "print(year_count)"
   ],
   "metadata": {
    "collapsed": false,
    "ExecuteTime": {
     "end_time": "2024-04-10T21:51:09.772627Z",
     "start_time": "2024-04-10T21:51:09.740698Z"
    }
   },
   "id": "fd0894b88bbd87ae"
  },
  {
   "cell_type": "code",
   "execution_count": 34,
   "outputs": [
    {
     "data": {
      "text/plain": "<BarContainer object of 57 artists>"
     },
     "execution_count": 34,
     "metadata": {},
     "output_type": "execute_result"
    },
    {
     "data": {
      "text/plain": "<Figure size 640x480 with 1 Axes>",
      "image/png": "[encoded data removed]"
     },
     "metadata": {},
     "output_type": "display_data"
    }
   ],
   "source": [
    "plt.bar(year_count.keys(), year_count.values())"
   ],
   "metadata": {
    "collapsed": false,
    "ExecuteTime": {
     "end_time": "2024-04-10T21:50:46.905511Z",
     "start_time": "2024-04-10T21:50:46.809127Z"
    }
   },
   "id": "9913b9de4c60e76e"
  },
  {
   "cell_type": "code",
   "execution_count": 34,
   "outputs": [],
   "source": [],
   "metadata": {
    "collapsed": false,
    "ExecuteTime": {
     "end_time": "2024-04-10T21:50:46.907761Z",
     "start_time": "2024-04-10T21:50:46.905687Z"
    }
   },
   "id": "e4e086be6ac1e8be"
  }
 ],
 "metadata": {
  "kernelspec": {
   "display_name": "Python 3",
   "language": "python",
   "name": "python3"
  },
  "language_info": {
   "codemirror_mode": {
    "name": "ipython",
    "version": 2
   },
   "file_extension": ".py",
   "mimetype": "text/x-python",
   "name": "python",
   "nbconvert_exporter": "python",
   "pygments_lexer": "ipython2",
   "version": "2.7.6"
  }
 },
 "nbformat": 4,
 "nbformat_minor": 5
}
