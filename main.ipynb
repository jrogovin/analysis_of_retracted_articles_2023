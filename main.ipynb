{
 "cells": [
  {
   "cell_type": "markdown",
   "source": [
    "# IS 597 Final Project\n",
    "Jess Rogovin"
   ],
   "metadata": {
    "collapsed": false
   },
   "id": "5a91c493ddfc028d"
  },
  {
   "cell_type": "markdown",
   "source": [
    "## Hypothesis 1: Overall Retraction Rates\n",
    "Retraction rates have increased in 2023 from previous years."
   ],
   "metadata": {
    "collapsed": false
   },
   "id": "ff51e6da0eca522b"
  },
  {
   "cell_type": "code",
   "execution_count": 4,
   "outputs": [],
   "source": [
    "import pandas as pd\n",
    "from hypothesis1 import get_retracted_articles, get_date_range, count_years\n",
    "import matplotlib.pyplot as plt"
   ],
   "metadata": {
    "collapsed": false,
    "ExecuteTime": {
     "end_time": "2024-04-19T15:05:42.554553Z",
     "start_time": "2024-04-19T15:05:42.173861Z"
    }
   },
   "id": "e123c6ee072b31fd"
  },
  {
   "cell_type": "code",
   "execution_count": 5,
   "outputs": [
    {
     "data": {
      "text/plain": "Counter({2023: 7334,\n         2022: 5517,\n         2010: 5012,\n         2011: 4932,\n         2021: 3897,\n         2020: 3071,\n         2019: 2903,\n         2018: 2531,\n         2017: 1702,\n         2016: 1681,\n         2015: 1543,\n         2013: 1447,\n         2009: 1184,\n         2012: 1153,\n         2014: 1111,\n         2024: 1055,\n         2008: 450,\n         2007: 329,\n         2006: 212,\n         2005: 139,\n         2004: 127,\n         2002: 124,\n         2003: 90,\n         2001: 37})"
     },
     "execution_count": 5,
     "metadata": {},
     "output_type": "execute_result"
    }
   ],
   "source": [
    "year_count = count_years(get_date_range(get_retracted_articles('data/retractions.csv')))\n",
    "year_count"
   ],
   "metadata": {
    "collapsed": false,
    "ExecuteTime": {
     "end_time": "2024-04-19T15:05:42.718284Z",
     "start_time": "2024-04-19T15:05:42.508786Z"
    }
   },
   "id": "fd0894b88bbd87ae"
  },
  {
   "cell_type": "code",
   "execution_count": 6,
   "outputs": [
    {
     "data": {
      "text/plain": "<BarContainer object of 24 artists>"
     },
     "execution_count": 6,
     "metadata": {},
     "output_type": "execute_result"
    },
    {
     "data": {
      "text/plain": "<Figure size 640x480 with 1 Axes>",
      "image/png": "[encoded data removed]"
     },
     "metadata": {},
     "output_type": "display_data"
    }
   ],
   "source": [
    "plt.bar(year_count.keys(), year_count.values())"
   ],
   "metadata": {
    "collapsed": false,
    "ExecuteTime": {
     "end_time": "2024-04-19T15:05:42.880219Z",
     "start_time": "2024-04-19T15:05:42.717363Z"
    }
   },
   "id": "9913b9de4c60e76e"
  },
  {
   "cell_type": "markdown",
   "source": [
    "Aside from a record number of retractions in 2010 due to scientific misconduct, the graph shows an overall upward trajectory of retractions since 2000. The last bar in the graph is 2024 and is incomplete, since this analysis is being completed in April 2024."
   ],
   "metadata": {
    "collapsed": false
   },
   "id": "36aae262255874fa"
  },
  {
   "cell_type": "markdown",
   "source": [
    "## Hypothesis 2: Reason for Retraction\n",
    "The main reason for retraction is scientific misconduct and retractions due to scientific misconduct have increased in 2023 from previous years."
   ],
   "metadata": {
    "collapsed": false
   },
   "id": "e9e067cd7a296b3"
  },
  {
   "cell_type": "code",
   "execution_count": 7,
   "outputs": [],
   "source": [
    "from hypothesis2 import get_retracted_articles, split_retraction_reasons, count_total_retraction_reasons\n",
    "import numpy as np"
   ],
   "metadata": {
    "collapsed": false,
    "ExecuteTime": {
     "end_time": "2024-04-19T15:05:42.883006Z",
     "start_time": "2024-04-19T15:05:42.878476Z"
    }
   },
   "id": "bfb9ebe6a4a6a4e3"
  },
  {
   "cell_type": "code",
   "execution_count": 8,
   "outputs": [
    {
     "data": {
      "text/plain": "       RetractionDate RetractionNature                                 Reason  \\\n0      3/21/2024 0:00       Retraction            +Concerns/Issues About Data   \n0      3/21/2024 0:00       Retraction         +Concerns/Issues About Results   \n0      3/21/2024 0:00       Retraction          +Investigation by Third Party   \n0      3/21/2024 0:00       Retraction            +Original Data not Provided   \n1      3/18/2024 0:00       Retraction            +Concerns/Issues About Data   \n...               ...              ...                                    ...   \n52589  1/29/2015 0:00       Retraction                  +Duplication of Image   \n52589  1/29/2015 0:00       Retraction    +Falsification/Fabrication of Image   \n52589  1/29/2015 0:00       Retraction  +Investigation by Company/Institution   \n52590  3/15/2012 0:00       Retraction          +Investigation by Third Party   \n52590  3/15/2012 0:00       Retraction                            +Withdrawal   \n\n       RetractionYear  \n0                2024  \n0                2024  \n0                2024  \n0                2024  \n1                2024  \n...               ...  \n52589            2015  \n52589            2015  \n52589            2015  \n52590            2012  \n52590            2012  \n\n[151446 rows x 4 columns]",
      "text/html": "<div>\n<style scoped>\n    .dataframe tbody tr th:only-of-type {\n        vertical-align: middle;\n    }\n\n    .dataframe tbody tr th {\n        vertical-align: top;\n    }\n\n    .dataframe thead th {\n        text-align: right;\n    }\n</style>\n<table border=\"1\" class=\"dataframe\">\n  <thead>\n    <tr style=\"text-align: right;\">\n      <th></th>\n      <th>RetractionDate</th>\n      <th>RetractionNature</th>\n      <th>Reason</th>\n      <th>RetractionYear</th>\n    </tr>\n  </thead>\n  <tbody>\n    <tr>\n      <th>0</th>\n      <td>3/21/2024 0:00</td>\n      <td>Retraction</td>\n      <td>+Concerns/Issues About Data</td>\n      <td>2024</td>\n    </tr>\n    <tr>\n      <th>0</th>\n      <td>3/21/2024 0:00</td>\n      <td>Retraction</td>\n      <td>+Concerns/Issues About Results</td>\n      <td>2024</td>\n    </tr>\n    <tr>\n      <th>0</th>\n      <td>3/21/2024 0:00</td>\n      <td>Retraction</td>\n      <td>+Investigation by Third Party</td>\n      <td>2024</td>\n    </tr>\n    <tr>\n      <th>0</th>\n      <td>3/21/2024 0:00</td>\n      <td>Retraction</td>\n      <td>+Original Data not Provided</td>\n      <td>2024</td>\n    </tr>\n    <tr>\n      <th>1</th>\n      <td>3/18/2024 0:00</td>\n      <td>Retraction</td>\n      <td>+Concerns/Issues About Data</td>\n      <td>2024</td>\n    </tr>\n    <tr>\n      <th>...</th>\n      <td>...</td>\n      <td>...</td>\n      <td>...</td>\n      <td>...</td>\n    </tr>\n    <tr>\n      <th>52589</th>\n      <td>1/29/2015 0:00</td>\n      <td>Retraction</td>\n      <td>+Duplication of Image</td>\n      <td>2015</td>\n    </tr>\n    <tr>\n      <th>52589</th>\n      <td>1/29/2015 0:00</td>\n      <td>Retraction</td>\n      <td>+Falsification/Fabrication of Image</td>\n      <td>2015</td>\n    </tr>\n    <tr>\n      <th>52589</th>\n      <td>1/29/2015 0:00</td>\n      <td>Retraction</td>\n      <td>+Investigation by Company/Institution</td>\n      <td>2015</td>\n    </tr>\n    <tr>\n      <th>52590</th>\n      <td>3/15/2012 0:00</td>\n      <td>Retraction</td>\n      <td>+Investigation by Third Party</td>\n      <td>2012</td>\n    </tr>\n    <tr>\n      <th>52590</th>\n      <td>3/15/2012 0:00</td>\n      <td>Retraction</td>\n      <td>+Withdrawal</td>\n      <td>2012</td>\n    </tr>\n  </tbody>\n</table>\n<p>151446 rows × 4 columns</p>\n</div>"
     },
     "execution_count": 8,
     "metadata": {},
     "output_type": "execute_result"
    }
   ],
   "source": [
    "reasons = split_retraction_reasons(get_date_range(get_retracted_articles('data/retractions.csv')))\n",
    "reasons = pd.DataFrame(reasons)\n",
    "reasons['Reason'].replace('', np.nan, inplace=True)\n",
    "reasons.dropna(subset=['Reason'], inplace=True)\n",
    "reasons"
   ],
   "metadata": {
    "collapsed": false,
    "ExecuteTime": {
     "end_time": "2024-04-19T15:05:43.171694Z",
     "start_time": "2024-04-19T15:05:42.884801Z"
    }
   },
   "id": "a6292819dfc8e1bc"
  },
  {
   "cell_type": "code",
   "execution_count": 45,
   "outputs": [
    {
     "name": "stdout",
     "output_type": "stream",
     "text": [
      "107\n"
     ]
    },
    {
     "data": {
      "text/plain": "Counter({'+Investigation by Journal/Publisher': 13656,\n         '+Notice - Limited or No Information': 11021,\n         '+Unreliable Results': 9042,\n         '+Concerns/Issues About Data': 8242,\n         '+Investigation by Third Party': 7540,\n         '+Concerns/Issues about Referencing/Attributions': 6293,\n         '+Date of Retraction/Other Unknown': 6107,\n         '+Concerns/Issues with Peer Review': 5277,\n         '+Breach of Policy by Author': 4724,\n         '+Fake Peer Review': 4704,\n         '+Paper Mill': 4064,\n         '+Concerns/Issues About Results': 3983,\n         '+Duplication of Image': 3742,\n         '+Withdrawal': 3700,\n         '+Randomly Generated Content': 3510,\n         '+Duplication of Article': 3259,\n         '+Euphemisms for Plagiarism': 2893,\n         '+Investigation by Company/Institution': 2645,\n         '+Plagiarism of Article': 2437,\n         '+Plagiarism of Text': 2141,\n         '+Misconduct by Author': 1705,\n         '+Rogue Editor': 1668,\n         '+Concerns/Issues About Image': 1655,\n         '+Original Data not Provided': 1639,\n         '+Error in Data': 1638,\n         '+Upgrade/Update of Prior Notice': 1613,\n         '+Falsification/Fabrication of Data': 1537,\n         '+Author Unresponsive': 1515,\n         '+Lack of IRB/IACUC Approval': 1475,\n         '+Unreliable Data': 1456,\n         '+Concerns/Issues About Authorship': 1390,\n         '+Misconduct - Official Investigation/Finding': 1381,\n         '+Error in Results and/or Conclusions': 1266,\n         '+Error in Analyses': 1180,\n         '+Manipulation of Images': 1119,\n         '+Error in Methods': 1033,\n         '+Euphemisms for Duplication': 945,\n         '+Objections by Author(s)': 908,\n         '+Retract and Replace': 872,\n         'Notice - No/Limited Information': 828,\n         '+False/Forged Authorship': 804,\n         '+Results Not Reproducible': 761,\n         '+Error in Image': 733,\n         '+Objections by Third Party': 724,\n         '+Duplicate Publication through Error by Journal/Publisher': 719,\n         '+Error by Journal/Publisher': 707,\n         '+Error in Text': 639,\n         '+Ethical Violations by Author': 636,\n         '+Informed/Patient Consent - None/Withdrawn': 631,\n         '+Duplication of Data': 624,\n         '+Copyright Claims': 608,\n         '+Lack of Approval from Author': 527,\n         '+Withdrawn to Publish in Different Journal': 493,\n         '+Falsification/Fabrication of Image': 483,\n         '+Concerns/Issues about Third Party Involvement': 473,\n         '+Concerns/Issues about Human Subject Welfare': 455,\n         '+Duplication of Text': 449,\n         '+Plagiarism of Image': 422,\n         '+Conflict of Interest': 390,\n         '+Withdrawn (out of date)': 361,\n         '+Lack of Approval from Third Party': 339,\n         '+Taken from Dissertation/Thesis': 316,\n         '+Plagiarism of Data': 310,\n         '+Notice - Lack of': 304,\n         '+Lack of Approval from Company/Institution': 255,\n         '+Investigation by ORI': 250,\n         '+Unreliable Image': 192,\n         '+Error in Materials (General)': 169,\n         '+False Affiliation': 135,\n         '+Doing the Right Thing': 135,\n         '+Notice - Unable to Access via current resources': 133,\n         '+Cites Retracted Work': 129,\n         '+Falsification/Fabrication of Results': 104,\n         '+Legal Reasons/Legal Threats': 97,\n         '+Contamination of Cell Lines/Tissues': 96,\n         '+Miscommunication by Author': 91,\n         '+Bias Issues or Lack of Balance': 86,\n         '+Publishing Ban': 81,\n         '+Error in Cell Lines/Tissues': 80,\n         '+Complaints about Author': 74,\n         '+Criminal Proceedings': 72,\n         '+Contamination of Materials (General)': 52,\n         '+Temporary Removal': 51,\n         '+Misconduct by Third Party': 43,\n         '+Manipulation of Results': 39,\n         '+Error by Third Party': 38,\n         '+Ethical Violations by Third Party': 29,\n         '+Civil Proceedings': 27,\n         '+Salami Slicing': 26,\n         '+Objections by Company/Institution': 26,\n         '+Transfer of Copyright/Ownership': 24,\n         '+Updated to Retraction': 23,\n         '+Taken via Peer Review': 20,\n         '+Not Presented at Conference': 20,\n         '+Euphemisms for Misconduct': 20,\n         '+Miscommunication by Journal/Publisher': 18,\n         '+Hoax Paper': 15,\n         '+Contamination of Reagents': 14,\n         '+Concerns/Issues about Animal Welfare': 12,\n         '+Miscommunication by Third Party': 12,\n         '+Nonpayment of Fees/Refusal to Pay': 10,\n         '+Miscommunication by Company/Institution': 10,\n         '+Complaints about Third Party': 7,\n         '+No Further Action': 7,\n         '+Misconduct by Company/Institution': 5,\n         '+Updated to Correction': 4,\n         '+Complaints about Company/Institution': 4})"
     },
     "execution_count": 45,
     "metadata": {},
     "output_type": "execute_result"
    }
   ],
   "source": [
    "reason_count = count_total_retraction_reasons(reasons)\n",
    "print(len(reason_count))\n",
    "reason_count"
   ],
   "metadata": {
    "collapsed": false,
    "ExecuteTime": {
     "end_time": "2024-04-19T15:33:44.777742Z",
     "start_time": "2024-04-19T15:33:44.774724Z"
    }
   },
   "id": "9897d47a96e6e663"
  },
  {
   "cell_type": "markdown",
   "source": [
    "Plotting this counter on a bar graph is incomprehensible because there are so many x ticks. However, we can see that scientific misconduct is not explicitly mentioned until the 21st instance in the counter. There are many reasons that also indicate misconduct such as plagiarism or \"euphemisms for plagiarism\". "
   ],
   "metadata": {
    "collapsed": false
   },
   "id": "e1f7e7d1b041374d"
  },
  {
   "cell_type": "code",
   "execution_count": 41,
   "outputs": [],
   "source": [],
   "metadata": {
    "collapsed": false,
    "ExecuteTime": {
     "end_time": "2024-04-19T15:33:06.489233Z",
     "start_time": "2024-04-19T15:33:06.484014Z"
    }
   },
   "id": "b410b52ebb965fe3"
  },
  {
   "cell_type": "code",
   "execution_count": null,
   "outputs": [],
   "source": [],
   "metadata": {
    "collapsed": false
   },
   "id": "3ca9eeca7daef0da"
  }
 ],
 "metadata": {
  "kernelspec": {
   "display_name": "Python 3",
   "language": "python",
   "name": "python3"
  },
  "language_info": {
   "codemirror_mode": {
    "name": "ipython",
    "version": 2
   },
   "file_extension": ".py",
   "mimetype": "text/x-python",
   "name": "python",
   "nbconvert_exporter": "python",
   "pygments_lexer": "ipython2",
   "version": "2.7.6"
  }
 },
 "nbformat": 4,
 "nbformat_minor": 5
}
